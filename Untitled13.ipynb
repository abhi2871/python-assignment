{
  "nbformat": 4,
  "nbformat_minor": 0,
  "metadata": {
    "colab": {
      "provenance": []
    },
    "kernelspec": {
      "name": "python3",
      "display_name": "Python 3"
    },
    "language_info": {
      "name": "python"
    }
  },
  "cells": [
    {
      "cell_type": "markdown",
      "source": [
        "Que 1. What are the five key concepts of Object-Oriented Programming (OOP)?\n",
        "\n",
        "The five key concepts of Object-Oriented Programming (OOP) are:\n",
        "\n",
        "Class: A blueprint or template for creating objects. It defines the attributes (data) and methods (functions) that objects created from the class can have.\n",
        "\n",
        "Object: An instance of a class. It represents a real-world entity with attributes and behaviors defined by its class.\n",
        "\n",
        "Encapsulation: The bundling of data (attributes) and methods (functions) that operate on the data into a single unit or class. It also involves restricting access to some components of an object to ensure controlled modification (using access modifiers like private, public, or protected).\n",
        "\n",
        "Inheritance: The mechanism by which one class (subclass) can inherit attributes and methods from another class (superclass). This promotes code reusability and establishes a hierarchy between classes.\n",
        "\n",
        "Polymorphism: The ability to present the same interface or method in different forms. This can be achieved through method overriding (inherited methods in a subclass) and method overloading (multiple methods with the same name but different parameters in the same class)."
      ],
      "metadata": {
        "id": "v3isufaSaRED"
      }
    },
    {
      "cell_type": "markdown",
      "source": [
        "Write a Python class for a Car with attributes for make, model, and year. Include a method to display the car's information.\n",
        "\n"
      ],
      "metadata": {
        "id": "-KM272JcaYU8"
      }
    },
    {
      "cell_type": "code",
      "source": [
        "class Car:\n",
        "    def __init__(self, make, model, year):\n",
        "        self.make = make\n",
        "        self.model = model\n",
        "        self.year = year\n",
        "\n",
        "    def display_info(self):\n",
        "        print(f\"Car Info: {self.year} {self.make} {self.model}\")\n",
        "\n",
        "\n",
        "\n",
        "# Creating a Car object\n",
        "my_car = Car(\"Toyota\", \"Corolla\", 2021)\n",
        "\n",
        "# Displaying the car's information\n",
        "my_car.display_info()"
      ],
      "metadata": {
        "id": "a16d9L2maZIy"
      },
      "execution_count": null,
      "outputs": []
    },
    {
      "cell_type": "markdown",
      "source": [
        "Que 3. Explain the difference between instance methods and class methods. Provide an example of each.\n",
        "\n",
        "In Python, both instance methods and class methods are used to define behaviors of a class, but they differ in how they are accessed and the kind of data they operate on.\n",
        "\n",
        "Instance Methods:\n",
        "Instance methods operate on instances (objects) of the class.\n",
        "These methods have access to instance-specific data (attributes) and can modify it.\n",
        "The first parameter is always self, which refers to the specific instance calling the method.\n",
        "Class Methods:\n",
        "Class methods operate on the class itself rather than instances of the class.\n",
        "\n",
        "They cannot access or modify instance-specific data but can modify class-level data.\n",
        "\n",
        "The first parameter is cls, which refers to the class itself.\n",
        "\n",
        "To define a class method, you need to use the @classmethod decorator."
      ],
      "metadata": {
        "id": "IGNnzj7Iak_C"
      }
    },
    {
      "cell_type": "code",
      "source": [
        "class Car:\n",
        "    # Class attribute (shared across all instances)\n",
        "    num_wheels = 4\n",
        "\n",
        "    def __init__(self, make, model, year):\n",
        "        # Instance attributes (unique to each instance)\n",
        "        self.make = make\n",
        "        self.model = model\n",
        "        self.year = year\n",
        "\n",
        "    # Instance method\n",
        "    def display_info(self):\n",
        "        print(f\"Car Info: {self.year} {self.make} {self.model}\")\n",
        "\n",
        "    # Class method\n",
        "    @classmethod\n",
        "    def change_num_wheels(cls, num):\n",
        "        cls.num_wheels = num\n",
        "\n",
        "    # Class method to display class-level info\n",
        "    @classmethod\n",
        "    def display_class_info(cls):\n",
        "        print(f\"All cars have {cls.num_wheels} wheels.\")\n",
        "\n",
        "\n",
        "\n",
        "# Creating an instance of the Car class\n",
        "my_car = Car(\"Toyota\", \"Corolla\", 2021)\n",
        "\n",
        "# Calling the instance method\n",
        "my_car.display_info()  # Output: Car Info: 2021 Toyota Corolla\n",
        "\n",
        "# Calling the class method to display and change class-level data\n",
        "Car.display_class_info()\n",
        "Car.change_num_wheels(6)\n",
        "Car.display_class_info()"
      ],
      "metadata": {
        "id": "ItO4adgkas8W"
      },
      "execution_count": null,
      "outputs": []
    },
    {
      "cell_type": "markdown",
      "source": [
        "Que 4 How does Python implement method overloading? Give an example.\n",
        "\n",
        "In many programming languages, method overloading allows multiple methods with the same name but different signatures (parameter types or numbers) in the same class. However, Python does not support traditional method overloading directly, where the same method name can have different arguments.\n",
        "\n",
        "Instead, Python handles method overloading through:\n",
        "\n",
        "Default arguments: Using default values for parameters, you can simulate method overloading by providing optional arguments.\n",
        "\n",
        "Variable-length arguments: Using **args and **kwargs to accept a variable number of positional or keyword arguments."
      ],
      "metadata": {
        "id": "muEg6Dxua3-a"
      }
    },
    {
      "cell_type": "code",
      "source": [
        "# example Using Default Arguments for Overloading\n",
        "class MathOperations:\n",
        "    def add(self, a, b=0, c=0):\n",
        "        return a + b + c\n",
        "\n",
        "# Example usage\n",
        "math_ops = MathOperations()\n",
        "\n",
        "# Calling with two arguments\n",
        "print(math_ops.add(10, 5))\n",
        "\n",
        "# Calling with three arguments\n",
        "print(math_ops.add(10, 5, 3))\n",
        "\n",
        "# Calling with one argument\n",
        "print(math_ops.add(10))"
      ],
      "metadata": {
        "id": "ihGqipv3a8ds"
      },
      "execution_count": null,
      "outputs": []
    },
    {
      "cell_type": "code",
      "source": [
        "\n",
        "# example using *args for overloding\n",
        "class MathOperations:\n",
        "    def add(self, *args):\n",
        "        return sum(args)\n",
        "\n",
        "# Example usage\n",
        "math_ops = MathOperations()\n",
        "\n",
        "# Calling with two arguments\n",
        "print(math_ops.add(10, 5))\n",
        "\n",
        "# Calling with three arguments\n",
        "print(math_ops.add(10, 5, 3))\n",
        "\n",
        "# Calling with one argument\n",
        "print(math_ops.add(10))"
      ],
      "metadata": {
        "id": "3NLAvNCNbGWM"
      },
      "execution_count": null,
      "outputs": []
    },
    {
      "cell_type": "markdown",
      "source": [
        "Que 5.What are the three types of access modifiers in Python? How are they denoted?\n",
        "\n",
        "In Python, access modifiers control the accessibility of class members (attributes and methods) from outside the class. Unlike other languages (like Java or C++), Python doesn’t have strict access modifiers like private, protected, or public. Instead, it uses naming conventions to suggest how these members should be accessed.\n",
        "\n",
        "The three types of access control in Python are:\n",
        "\n",
        "Public:\n",
        "Description: Public members can be accessed from anywhere (both inside and outside the class).\n",
        "Denotation: No special notation is required; all attributes and methods are public by default.\n",
        "Protected:\n",
        "Description: Protected members should not be accessed directly outside the class, but can be accessed in subclasses. It’s a convention indicating that these members are intended for internal use.\n",
        "Denotation: Prefix the name with a single underscore (_).\n",
        "Private:\n",
        "Description: Private members cannot be accessed directly outside the class, including in subclasses. Python performs name mangling to make private members harder to access.\n",
        "Denotation: Prefix the name with a double underscore (__)."
      ],
      "metadata": {
        "id": "itTa-M8xbL9l"
      }
    },
    {
      "cell_type": "code",
      "source": [
        "# example of public\n",
        "class Car:\n",
        "    def __init__(self, make, model):\n",
        "        self.make = make  # Public attribute\n",
        "\n",
        "    def display_info(self):  # Public method\n",
        "        print(f\"Car make: {self.make}\")\n",
        "\n",
        "car = Car(\"Toyota\", \"Corolla\")\n",
        "print(car.make)  # Accessible from outside the class\n",
        "car.display_info()  # Accessible from outside the class\n",
        "\n",
        ""
      ],
      "metadata": {
        "id": "v8-Xh3CNbQSo"
      },
      "execution_count": null,
      "outputs": []
    },
    {
      "cell_type": "code",
      "source": [
        "#example of protected\n",
        "class Car:\n",
        "    def __init__(self, make, model):\n",
        "        self._make = make  # Protected attribute\n",
        "\n",
        "    def _display_info(self):  # Protected method\n",
        "        print(f\"Car make: {self._make}\")\n",
        "\n",
        "car = Car(\"Toyota\", \"Corolla\")\n",
        "print(car._make)  # Though discouraged, it is still accessible from outside\n",
        "car._display_info()  # Can be accessed, but by convention shouldn't be"
      ],
      "metadata": {
        "id": "0quv48x-bTvi"
      },
      "execution_count": null,
      "outputs": []
    },
    {
      "cell_type": "code",
      "source": [
        "#example of private\n",
        "class Car:\n",
        "    def __init__(self, make, model):\n",
        "        self.__make = make  # Private attribute\n",
        "\n",
        "    def __display_info(self):  # Private method\n",
        "        print(f\"Car make: {self.__make}\")\n",
        "\n",
        "car = Car(\"Toyota\", \"Corolla\")\n",
        "# Accessing __make and __display_info directly will result in an AttributeError\n",
        "# print(car.__make)  # This will cause an error\n",
        "# car.__display_info()  # This will cause an error\n",
        "\n",
        "# However, name mangling allows access with a specific format:\n",
        "print(car._Car__make)\n",
        "car._Car__display_info()"
      ],
      "metadata": {
        "id": "IoYooQftbWmJ"
      },
      "execution_count": null,
      "outputs": []
    },
    {
      "cell_type": "markdown",
      "source": [
        "Que 7. What is the Method Resolution Order (MRO) in Python? How can you retrieve it programmatically?\n",
        "\n",
        "Method Resolution Order (MRO) in Python The Method Resolution Order (MRO) in Python is the order in which Python looks for a method or attribute in a hierarchy of classes during inheritance, particularly in cases of multiple inheritance. It defines the sequence in which base classes are searched when a method is called. Python uses the C3 Linearization algorithm (also known as the C3 superclass linearization) to establish this order, ensuring that:\n",
        "\n",
        "Methods are resolved from the subclass first, moving up to the superclasses.\n",
        "There is a consistent order, even with multiple inheritance.\n",
        "MRO Order:\n",
        "\n",
        "First, it looks in the child class (the class from which the method is called).\n",
        "\n",
        "Then, it moves to its parent class (or parent classes in the case of multiple inheritance) based on the MRO.\n",
        "\n",
        "If a method isn't found in the first parent class, it continues the search up the inheritance chain.\n",
        "\n",
        "Retrieving the MRO Programmatically:\n",
        "\n",
        "Python provides two ways to retrieve the MRO of a class:\n",
        "\n",
        "Using the mro attribute: You can access the MRO by using the mro attribute of a class.\n",
        "Using the mro() method: You can also use the mro() method of the class to get the same information in list format."
      ],
      "metadata": {
        "id": "4SASwzJwbbj6"
      }
    },
    {
      "cell_type": "code",
      "source": [
        "#example of MRO\n",
        "class A:\n",
        "    def display(self):\n",
        "        print(\"A's display method\")\n",
        "\n",
        "class B(A):\n",
        "    def display(self):\n",
        "        print(\"B's display method\")\n",
        "\n",
        "class C(A):\n",
        "    def display(self):\n",
        "        print(\"C's display method\")\n",
        "\n",
        "class D(B, C):\n",
        "    pass\n",
        "\n",
        "d = D()\n",
        "d.display()"
      ],
      "metadata": {
        "id": "Vp2NyjA2bfD1"
      },
      "execution_count": null,
      "outputs": []
    },
    {
      "cell_type": "markdown",
      "source": [
        "Que 8. Create an abstract base class Shape with an abstract method area(). Then create two subclasses Circle and Rectangle that implement the area() method.\n",
        "\n",
        "In Python, you can create an abstract base class using the abc module. An abstract base class is a class that cannot be instantiated directly and must be subclassed. Any subclass must implement the abstract methods defined in the base class.\n",
        "\n",
        "Here's how you can define an abstract class Shape with an abstract method area() and create two subclasses Circle and Rectangle that implement the area() method:"
      ],
      "metadata": {
        "id": "9H-e-9t6bmxy"
      }
    },
    {
      "cell_type": "code",
      "source": [
        "from abc import ABC, abstractmethod\n",
        "import math\n",
        "\n",
        "# Abstract base class\n",
        "class Shape(ABC):\n",
        "\n",
        "    @abstractmethod\n",
        "    def area(self):\n",
        "        pass  # Abstract method that must be implemented by subclasses\n",
        "\n",
        "# Subclass Circle\n",
        "class Circle(Shape):\n",
        "\n",
        "    def __init__(self, radius):\n",
        "        self.radius = radius\n",
        "\n",
        "    def area(self):\n",
        "        return math.pi * self.radius ** 2  # Area of a circle: πr²\n",
        "\n",
        "# Subclass Rectangle\n",
        "class Rectangle(Shape):\n",
        "\n",
        "    def __init__(self, width, height):\n",
        "        self.width = width\n",
        "        self.height = height\n",
        "\n",
        "    def area(self):\n",
        "        return self.width * self.height  # Area of a rectangle: width * height\n",
        "\n",
        "# Example usage\n",
        "circle = Circle(5)\n",
        "print(f\"Area of Circle: {circle.area()}\")  .\n",
        "\n",
        "rectangle = Rectangle(4, 6)\n",
        "print(f\"Area of Rectangle: {rectangle.area()}\")\n",
        "\n",
        ""
      ],
      "metadata": {
        "id": "Gg26deWqbsmW"
      },
      "execution_count": null,
      "outputs": []
    },
    {
      "cell_type": "markdown",
      "source": [
        "Que 9. Demonstrate polymorphism by creating a function that can work with different shape objects to calculate and print their areas.\n",
        "\n",
        "Polymorphism allows different classes to be treated through a common interface. In this case, the common interface is the area() method, which is defined in the abstract class Shape. We can create a function that takes any shape object (like Circle or Rectangle) and calculates the area using the polymorphic behavior of the area() method.\n",
        "\n",
        "Here’s how you can demonstrate polymorphism by creating a function that works with different shape objects to calculate and print their areas:\n",
        "\n",
        "Explanation:\n",
        "\n",
        "Polymorphism is demonstrated by the print_area() function:\n",
        "This function accepts any object that implements the Shape interface (i.e., has an area() method).\n",
        "It doesn't need to know whether the object is a Circle or a Rectangle; it simply calls the area() method, and the correct implementation is automatically used based on the object's class.\n",
        "Polymorphic Behavior:\n",
        "When print_area(circle) is called, the area() method of the Circle class is executed.\n",
        "When print_area(rectangle) is called, the area() method of the Rectangle class is executed.\n",
        "\n"
      ],
      "metadata": {
        "id": "av0O3KU-bxaL"
      }
    },
    {
      "cell_type": "code",
      "source": [
        "from abc import ABC, abstractmethod\n",
        "import math\n",
        "\n",
        "# Abstract base class\n",
        "class Shape(ABC):\n",
        "\n",
        "    @abstractmethod\n",
        "    def area(self):\n",
        "        pass  # Abstract method that must be implemented by subclasses\n",
        "\n",
        "# Subclass Circle\n",
        "class Circle(Shape):\n",
        "\n",
        "    def __init__(self, radius):\n",
        "        self.radius = radius\n",
        "\n",
        "    def area(self):\n",
        "        return math.pi * self.radius ** 2  # Area of a circle: πr²\n",
        "\n",
        "# Subclass Rectangle\n",
        "class Rectangle(Shape):\n",
        "\n",
        "    def __init__(self, width, height):\n",
        "        self.width = width\n",
        "        self.height = height\n",
        "\n",
        "    def area(self):\n",
        "        return self.width * self.height  # Area of a rectangle: width * height\n",
        "\n",
        "# Polymorphic function\n",
        "def print_area(shape):\n",
        "    print(f\"The area is: {shape.area()}\")\n",
        "\n",
        "# Example usage\n",
        "circle = Circle(5)\n",
        "rectangle = Rectangle(4, 6)\n",
        "\n",
        "# Using the same function to calculate and print the area of different shapes\n",
        "print_area(circle)\n",
        "print_area(rectangle)\n",
        "\n",
        ""
      ],
      "metadata": {
        "id": "PqhFjzIxb5hY"
      },
      "execution_count": null,
      "outputs": []
    },
    {
      "cell_type": "markdown",
      "source": [
        "Que 10. Implement encapsulation in a BankAccount class with private attributes for balance and account_number. Include methods for deposit, withdrawal, and balance inquiry.\n",
        "\n",
        "Encapsulation is one of the key principles of Object-Oriented Programming (OOP) that restricts direct access to an object's attributes and methods to protect its internal state. In Python, encapsulation can be implemented by making class attributes private using double underscores (__), which will prevent them from being accessed or modified directly from outside the class.\n",
        "\n",
        "Here’s an implementation of encapsulation in a BankAccount class with private attributes for balance and account_number. We will include methods for deposit, withdrawal, and balance inquiry.\n",
        "\n",
        "**Explanation:\n",
        "\n",
        "Private Attributes:\n",
        "The balance and __account_number attributes are made private by prefixing them with double underscores (), which prevents direct access from outside the class.\n",
        "They can only be accessed through the methods provided within the class.\n",
        "method:\n",
        "deposit(amount): Adds the specified amount to the balance. It checks if the deposit amount is positive.\n",
        "\n",
        "withdraw(amount): Deducts the specified amount from the balance, ensuring that there are sufficient funds and that the withdrawal amount is positive.\n",
        "\n",
        "get_balance(): Returns the current balance, allowing users to check the balance without directly accessing the private __balance attribute.\n",
        "get_account_number(): Provides access to the private __account_number without directly exposing it.\n",
        "\n",
        "Encapsulation:\n",
        "The class hides the details of the balance and account_number by making them private, providing controlled access through methods\n",
        "This ensures that the balance and account number cannot be arbitrarily changed from outside the class, preserving the integrity of the data"
      ],
      "metadata": {
        "id": "K1HxlM8scDsU"
      }
    },
    {
      "cell_type": "code",
      "source": [
        "class BankAccount:\n",
        "    def __init__(self, account_number, balance=0):\n",
        "        # Private attributes\n",
        "        self.__account_number = account_number\n",
        "        self.__balance = balance\n",
        "\n",
        "    # Method to deposit money\n",
        "    def deposit(self, amount):\n",
        "        if amount > 0:\n",
        "            self.__balance += amount\n",
        "            print(f\"Deposited: ${amount}. New balance: ${self.__balance}\")\n",
        "        else:\n",
        "            print(\"Deposit amount must be positive.\")\n",
        "\n",
        "    # Method to withdraw money\n",
        "    def withdraw(self, amount):\n",
        "        if amount > 0:\n",
        "            if amount <= self.__balance:\n",
        "                self.__balance -= amount\n",
        "                print(f\"Withdrew: ${amount}. New balance: ${self.__balance}\")\n",
        "            else:\n",
        "                print(\"Insufficient balance for the withdrawal.\")\n",
        "        else:\n",
        "            print(\"Withdrawal amount must be positive.\")\n",
        "\n",
        "    # Method to inquire about the current balance\n",
        "    def get_balance(self):\n",
        "        return f\"Current balance: ${self.__balance}\"\n",
        "# Method to inquire about the account number\n",
        "    def get_account_number(self):\n",
        "        return f\"Account number: {self.__account_number}\"\n",
        "\n",
        "# Example usage:\n",
        "account = BankAccount(\"123456789\", 1000)\n",
        "\n",
        "# Deposit money\n",
        "account.deposit(500)\n",
        "\n",
        "# Withdraw money\n",
        "account.withdraw(300)\n",
        "\n",
        "# Balance inquiry\n",
        "print(account.get_balance())\n",
        "\n",
        "# Trying to access private attributes directly (will raise AttributeError)\n",
        "# print(account.__balance)  # This will raise an error\n",
        "# print(account.__account_number)  # This will raise an error"
      ],
      "metadata": {
        "id": "ujqx4u8FcNNy"
      },
      "execution_count": null,
      "outputs": []
    },
    {
      "cell_type": "markdown",
      "source": [
        "Que 11.Write a class that overrides the __str__ and __add__ magic methods. What will these methods allow you to do?\n",
        "\n",
        "In Python, magic methods (also known as dunder methods, short for \"double underscore\") allow you to define how objects of your class behave with built-in functions and operators. The str and add magic methods are commonly used to control object behavior in specific situations:\n",
        "\n",
        "str: Defines how an object is represented as a string when you use print() or str(). *add: Defines how objects of your class can be added using the + operator"
      ],
      "metadata": {
        "id": "pCfYHrlUcUaf"
      }
    },
    {
      "cell_type": "code",
      "source": [
        "class Point:\n",
        "    def __init__(self, x, y):\n",
        "        self.x = x\n",
        "        self.y = y\n",
        "\n",
        "    # Override the __str__ method for a user-friendly string representation\n",
        "    def __str__(self):\n",
        "        return f\"Point({self.x}, {self.y})\"\n",
        "\n",
        "    # Override the __add__ method to add two Point objects\n",
        "    def __add__(self, other):\n",
        "        if isinstance(other, Point):\n",
        "            return Point(self.x + other.x, self.y + other.y)\n",
        "        return NotImplemented\n",
        "\n",
        "# Example usage\n",
        "p1 = Point(2, 3)\n",
        "p2 = Point(4, 5)\n",
        "\n",
        "# Using __str__ with print\n",
        "print(p1)\n",
        "print(p2)\n",
        "\n",
        "# Using __add__ with +\n",
        "p3 = p1 + p2\n",
        "print(p3)"
      ],
      "metadata": {
        "id": "CnzCO4uLcasy"
      },
      "execution_count": null,
      "outputs": []
    },
    {
      "cell_type": "markdown",
      "source": [
        "Que 12.Create a decorator that measures and prints the execution time of a function.\n",
        "\n",
        "In Python, a decorator is a function that takes another function as an argument and extends or alters its behavior. To measure and print the execution time of a function, you can use the time module to record the start and end time of the function's execution.\n",
        "\n",
        "Here’s how you can create a decorator that measures and prints the execution time of any function:"
      ],
      "metadata": {
        "id": "Dy8noY9hce5i"
      }
    },
    {
      "cell_type": "code",
      "source": [
        "# Decorator to measure execution time\n",
        "def measure_time(func):\n",
        "    def wrapper(*args, **kwargs):\n",
        "        start_time = time.time()  # Record the start time\n",
        "        result = func(*args, **kwargs)  # Call the function\n",
        "        end_time = time.time()  # Record the end time\n",
        "        execution_time = end_time - start_time  # Calculate execution time\n",
        "        print(f\"Execution time of {func.__name__}: {execution_time:.4f} seconds\")\n",
        "        return result  # Return the result of the function\n",
        "    return wrapper\n",
        "\n",
        "# Example usage\n",
        "\n",
        "@measure_time\n",
        "def slow_function():\n",
        "    time.sleep(2)  # Simulate a slow function by sleeping for 2 seconds\n",
        "    print(\"Function complete\")\n",
        "\n",
        "@measure_time\n",
        "def fast_function():\n",
        "    time.sleep(1)  # Simulate a slightly faster function by sleeping for 1 second\n",
        "    print(\"Function complete\")\n",
        "\n",
        "# Test the functions\n",
        "slow_function()\n",
        "fast_function()"
      ],
      "metadata": {
        "id": "5iVvlT5fckGV"
      },
      "execution_count": null,
      "outputs": []
    },
    {
      "cell_type": "markdown",
      "source": [
        "Que 13. Explain the concept of the Diamond Problem in multiple inheritance. How does Python resolve it?\n",
        "\n",
        "The Diamond Problem is a well-known issue in multiple inheritance in object-oriented programming, particularly in languages like C++ where a class can inherit from more than one parent class. The problem occurs when a class inherits from two classes that both inherit from a common base class, leading to ambiguity about which class method or attribute should be used.\n",
        "\n",
        "The Diamond Problem Imagine the following inheritance hierarchy:\n",
        "\n",
        "\n",
        "    A\n",
        "   / \\\n",
        "  B   C\n",
        "   \\ /\n",
        "    D\n",
        "\n",
        "     \n",
        "Class A is the base class.\n",
        "Classes B and C both inherit from A.\n",
        "Class D inherits from both B and C.\n",
        "If class D calls a method that is defined in class A, which of the two paths (B or C) should be followed to access it? This is where the ambiguity arises, as both B and C have access to A, and it’s unclear which one’s version of A should be invoked.\n",
        "\n",
        "The Problem in Detail:\n",
        "Method Resolution Order (MRO): When you call a method on an instance of class D, the interpreter has to decide the order in which it looks for the method in classes B, C, and A. Without a clear rule, this can lead to unexpected behavior or conflicts if the method exists in multiple classes.\n",
        "\n",
        "How Python Resolves the Diamond Problem Python uses the C3 Linearization (also known as C3 superclass linearization) to resolve the Diamond Problem. This linearization algorithm establishes a consistent method resolution order (MRO), meaning Python defines an order in which classes are checked when searching for methods or attributes.\n",
        "\n",
        "Python's MRO Rules:\n",
        "\n",
        "Order of Inheritance: Python respects the order of inheritance from left to right.\n",
        "Depth-First Search: It uses depth-first traversal of the class hierarchy.\n",
        "C3 Linearization: The MRO is computed in a way that respects the inheritance structure, ensuring that no class is checked more than once and that classes are checked in a consistent and predictable order\n",
        "Method Resolution Order (MRO): When you call a method on an instance of class D, the interpreter has to decide the order in which it looks for the method in classes B, C, and A. Without a clear rule, this can lead to unexpected behavior or conflicts if the method exists in multiple classes.\n",
        "\n",
        "How Python Resolves the Diamond Problem Python uses the C3 Linearization (also known as C3 superclass linearization) to resolve the Diamond Problem. This linearization algorithm establishes a consistent method resolution order (MRO), meaning Python defines an order in which classes are checked when searching for methods or attributes.\n",
        "\n",
        "Python's MRO Rules:\n",
        "\n",
        "Order of Inheritance: Python respects the order of inheritance from left to right.\n",
        "Depth-First Search: It uses depth-first traversal of the class hierarchy.\n",
        "C3 Linearization: The MRO is computed in a way that respects the inheritance structure, ensuring that no class is checked more than once and that classes are checked in a consistent and predictable order"
      ],
      "metadata": {
        "id": "7J9LqLYYcrUI"
      }
    },
    {
      "cell_type": "markdown",
      "source": [
        "Que 14. Write a class method that keeps track of the number of instances created from a class.\n",
        "\n",
        "To track the number of instances created from a class, you can use a class variable that gets incremented each time the class is instantiated. You can do this by defining an init method (the constructor) and updating the count in the constructor.\n",
        "\n",
        "Explanation:\n",
        "\n",
        "instance_count: This is a class variable that keeps track of the number of instances.\n",
        "init method: This constructor increments instance_count each time a new instance is created.\n",
        "get_instance_count: This is a class method (@classmethod) that allows us to access the current instance count from the class itself."
      ],
      "metadata": {
        "id": "pkDpcqv5c1QN"
      }
    },
    {
      "cell_type": "code",
      "source": [
        "   # Class variable to keep track of the number of instances\n",
        "    instance_count = 0\n",
        "\n",
        "    def __init__(self):\n",
        "        # Increment the instance count every time a new instance is created\n",
        "        InstanceCounter.instance_count += 1\n",
        "\n",
        "    @classmethod\n",
        "    def get_instance_count(cls):\n",
        "        # Return the current number of instances\n",
        "        return cls.instance_count\n",
        "\n",
        "# Example usage:\n",
        "obj1 = InstanceCounter()\n",
        "obj2 = InstanceCounter()\n",
        "obj3 = InstanceCounter()\n",
        "\n",
        "# Get the number of instances created\n",
        "print(InstanceCounter.get_instance_count())  # Output: 3\n"
      ],
      "metadata": {
        "id": "gWJNV8mqc5fh"
      },
      "execution_count": null,
      "outputs": []
    },
    {
      "cell_type": "markdown",
      "source": [
        "Que 15. Implement a static method in a class that checks if a given year is a leap year.\n",
        "\n",
        "You can implement a static method in a class that checks whether a given year is a leap year. A leap year occurs every 4 years, but if the year is divisible by 100, it must also be divisible by 400 to be a leap year.\n",
        "\n",
        "Explanation:\n",
        "\n",
        "Static method (@staticmethod): The is_leap_year method is marked as static because it does not need to access or modify any instance or class-specific data. It only needs the year argument to perform the check.\n",
        "Leap year rule: The year must be divisible by 4, but not by 100 unless it is also divisible by 400."
      ],
      "metadata": {
        "id": "ZdNQm3s6c9ZN"
      }
    },
    {
      "cell_type": "code",
      "source": [
        "class YearUtility:\n",
        "    @staticmethod\n",
        "    def is_leap_year(year):\n",
        "        # Leap year is divisible by 4, but not 100 unless it's divisible by 400\n",
        "        if (year % 4 == 0 and year % 100 != 0) or (year % 400 == 0):\n",
        "            return True\n",
        "        return False\n",
        "\n",
        "# Example usage:\n",
        "print(YearUtility.is_leap_year(2024))\n",
        "print(YearUtility.is_leap_year(2023))\n",
        "print(YearUtility.is_leap_year(1900))\n",
        "print(YearUtility.is_leap_year(2000))\n"
      ],
      "metadata": {
        "id": "tPHoagvOdAeJ"
      },
      "execution_count": null,
      "outputs": []
    }
  ]
}